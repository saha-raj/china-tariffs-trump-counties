{
 "cells": [
  {
   "cell_type": "code",
   "execution_count": 1,
   "metadata": {},
   "outputs": [],
   "source": [
    "import pandas as pd\n",
    "import numpy as np\n",
    "import matplotlib.pyplot as plt\n",
    "import seaborn as sns\n",
    "import plotly.express as px\n",
    "import plotly.graph_objects as go\n"
   ]
  },
  {
   "cell_type": "code",
   "execution_count": 2,
   "metadata": {},
   "outputs": [],
   "source": [
    "df = pd.read_csv(\"data/oes_chinese_tariffs_naics_state_total_employment.csv\")"
   ]
  },
  {
   "cell_type": "code",
   "execution_count": 8,
   "metadata": {},
   "outputs": [
    {
     "name": "stdout",
     "output_type": "stream",
     "text": [
      "NAICS column is now of type: object\n"
     ]
    },
    {
     "data": {
      "text/html": [
       "<div>\n",
       "<style scoped>\n",
       "    .dataframe tbody tr th:only-of-type {\n",
       "        vertical-align: middle;\n",
       "    }\n",
       "\n",
       "    .dataframe tbody tr th {\n",
       "        vertical-align: top;\n",
       "    }\n",
       "\n",
       "    .dataframe thead th {\n",
       "        text-align: right;\n",
       "    }\n",
       "</style>\n",
       "<table border=\"1\" class=\"dataframe\">\n",
       "  <thead>\n",
       "    <tr style=\"text-align: right;\">\n",
       "      <th></th>\n",
       "      <th>NAICS</th>\n",
       "      <th>NAICS_TITLE</th>\n",
       "      <th>State</th>\n",
       "      <th>Total_Employment</th>\n",
       "    </tr>\n",
       "  </thead>\n",
       "  <tbody>\n",
       "    <tr>\n",
       "      <th>0</th>\n",
       "      <td>486100</td>\n",
       "      <td>Pipeline Transportation of Crude Oil</td>\n",
       "      <td>Alaska</td>\n",
       "      <td>720.0</td>\n",
       "    </tr>\n",
       "    <tr>\n",
       "      <th>1</th>\n",
       "      <td>486100</td>\n",
       "      <td>Pipeline Transportation of Crude Oil</td>\n",
       "      <td>California</td>\n",
       "      <td>330.0</td>\n",
       "    </tr>\n",
       "    <tr>\n",
       "      <th>2</th>\n",
       "      <td>486100</td>\n",
       "      <td>Pipeline Transportation of Crude Oil</td>\n",
       "      <td>Georgia</td>\n",
       "      <td>70.0</td>\n",
       "    </tr>\n",
       "    <tr>\n",
       "      <th>3</th>\n",
       "      <td>486100</td>\n",
       "      <td>Pipeline Transportation of Crude Oil</td>\n",
       "      <td>Illinois</td>\n",
       "      <td>390.0</td>\n",
       "    </tr>\n",
       "    <tr>\n",
       "      <th>4</th>\n",
       "      <td>486100</td>\n",
       "      <td>Pipeline Transportation of Crude Oil</td>\n",
       "      <td>Mississippi</td>\n",
       "      <td>130.0</td>\n",
       "    </tr>\n",
       "  </tbody>\n",
       "</table>\n",
       "</div>"
      ],
      "text/plain": [
       "    NAICS                           NAICS_TITLE        State  Total_Employment\n",
       "0  486100  Pipeline Transportation of Crude Oil       Alaska             720.0\n",
       "1  486100  Pipeline Transportation of Crude Oil   California             330.0\n",
       "2  486100  Pipeline Transportation of Crude Oil      Georgia              70.0\n",
       "3  486100  Pipeline Transportation of Crude Oil     Illinois             390.0\n",
       "4  486100  Pipeline Transportation of Crude Oil  Mississippi             130.0"
      ]
     },
     "execution_count": 8,
     "metadata": {},
     "output_type": "execute_result"
    }
   ],
   "source": [
    "# Convert NAICS column to string data type\n",
    "# This is important because NAICS codes are identifiers, not numeric values for calculations\n",
    "# Converting to string prevents leading zeros from being dropped and enables proper string operations\n",
    "df['NAICS'] = df['NAICS'].astype(str)\n",
    "\n",
    "# Verify the conversion\n",
    "print(\"NAICS column is now of type:\", df['NAICS'].dtype)\n",
    "\n",
    "# Display the first few rows to confirm the conversion worked correctly\n",
    "df.head()\n"
   ]
  },
  {
   "cell_type": "code",
   "execution_count": 9,
   "metadata": {},
   "outputs": [
    {
     "data": {
      "text/plain": [
       "State\n",
       "Texas          6470.0\n",
       "Ohio           1310.0\n",
       "Alaska          720.0\n",
       "Illinois        390.0\n",
       "California      330.0\n",
       "Wyoming         210.0\n",
       "Oklahoma        150.0\n",
       "Montana         140.0\n",
       "Mississippi     130.0\n",
       "Georgia          70.0\n",
       "Name: Total_Employment, dtype: float64"
      ]
     },
     "execution_count": 9,
     "metadata": {},
     "output_type": "execute_result"
    }
   ],
   "source": [
    "df[df[\"NAICS\"] == '486100'].groupby(\"State\")[\n",
    "    \"Total_Employment\"\n",
    "].sum().sort_values(ascending=False)"
   ]
  },
  {
   "cell_type": "code",
   "execution_count": 6,
   "metadata": {},
   "outputs": [
    {
     "data": {
      "text/plain": [
       "NAICS                 int64\n",
       "NAICS_TITLE          object\n",
       "State                object\n",
       "Total_Employment    float64\n",
       "dtype: object"
      ]
     },
     "execution_count": 6,
     "metadata": {},
     "output_type": "execute_result"
    }
   ],
   "source": [
    "df.dtypes"
   ]
  }
 ],
 "metadata": {
  "kernelspec": {
   "display_name": "base",
   "language": "python",
   "name": "python3"
  },
  "language_info": {
   "codemirror_mode": {
    "name": "ipython",
    "version": 3
   },
   "file_extension": ".py",
   "mimetype": "text/x-python",
   "name": "python",
   "nbconvert_exporter": "python",
   "pygments_lexer": "ipython3",
   "version": "3.11.5"
  }
 },
 "nbformat": 4,
 "nbformat_minor": 2
}
